{
 "cells": [
  {
   "cell_type": "code",
   "execution_count": null,
   "id": "cf10fa2c-31a4-461e-823c-c1b9e763fcc8",
   "metadata": {},
   "outputs": [],
   "source": [
    "import sys\n",
    "sys.executable"
   ]
  },
  {
   "cell_type": "code",
   "execution_count": null,
   "id": "2bae7959-269a-4100-9d29-ce996a3fbc88",
   "metadata": {},
   "outputs": [],
   "source": [
    "import os\n",
    "os.environ['PYOPENCL_CTX'] ='0'"
   ]
  },
  {
   "cell_type": "code",
   "execution_count": null,
   "id": "65c81792-a61c-46a6-845d-86823f2e39c6",
   "metadata": {},
   "outputs": [],
   "source": [
    "%matplotlib ipympl\n",
    "import matplotlib.pyplot as plt"
   ]
  },
  {
   "cell_type": "code",
   "execution_count": null,
   "id": "0423bd0d-8a3c-4f04-bc2d-838816a9cc43",
   "metadata": {},
   "outputs": [],
   "source": [
    "import multianalyzer\n",
    "import numpy as np"
   ]
  },
  {
   "cell_type": "code",
   "execution_count": null,
   "id": "8e67af16-37bd-4b36-b164-6690d315cc4b",
   "metadata": {},
   "outputs": [],
   "source": [
    "from hello_world import reduce\n",
    "from pathlib import Path"
   ]
  },
  {
   "cell_type": "code",
   "execution_count": null,
   "id": "f15c063e-e34f-44fe-b733-660eb28a1d07",
   "metadata": {},
   "outputs": [],
   "source": [
    "config = reduce.load_all_config(Path('/nsls2/data3/projects/next_iiia_hrd/xrt_output/'))"
   ]
  },
  {
   "cell_type": "code",
   "execution_count": null,
   "id": "f25a589f-78ce-4160-8083-bf5faefc9b74",
   "metadata": {},
   "outputs": [],
   "source": [
    "ret, fig = reduce.reduce_and_plot(config, mode='cython')"
   ]
  },
  {
   "cell_type": "code",
   "execution_count": null,
   "id": "3a3a4d43-a84f-405a-9121-f91495f6f258",
   "metadata": {},
   "outputs": [],
   "source": [
    "path_c, (r_c, cfg_c, calib_c) = next(iter(ret.items()))"
   ]
  },
  {
   "cell_type": "code",
   "execution_count": null,
   "id": "5fc015e6-2999-4f9e-936b-6fb4f6970866",
   "metadata": {},
   "outputs": [],
   "source": [
    "ret_g, fig = reduce.reduce_and_plot([k for k, v in config.items() if v.source.dx == 1])"
   ]
  },
  {
   "cell_type": "code",
   "execution_count": null,
   "id": "f6bcc0d9-8088-40df-a383-c18de5754396",
   "metadata": {},
   "outputs": [],
   "source": [
    "path_g, (r_g, cfg_r, calib_g) = next(iter(ret_g.items()))"
   ]
  },
  {
   "cell_type": "code",
   "execution_count": null,
   "id": "7a9fbfe3-c0f4-404a-81b2-1b4c744c4049",
   "metadata": {},
   "outputs": [],
   "source": []
  },
  {
   "cell_type": "code",
   "execution_count": null,
   "id": "c1a36e72-dadb-46a6-822a-5a3531fc1f02",
   "metadata": {},
   "outputs": [],
   "source": [
    "r_c.signal.sum()"
   ]
  },
  {
   "cell_type": "code",
   "execution_count": null,
   "id": "965615a9-6c03-4339-b13d-acaf30f8d693",
   "metadata": {},
   "outputs": [],
   "source": [
    "tth, block = reduce.load_data(path_c)"
   ]
  },
  {
   "cell_type": "code",
   "execution_count": null,
   "id": "740fd556-66de-4070-a075-2760f76e55db",
   "metadata": {},
   "outputs": [],
   "source": [
    "block.sum()"
   ]
  },
  {
   "cell_type": "code",
   "execution_count": null,
   "id": "040e10f9-a0a2-4333-b304-c63aeef50433",
   "metadata": {},
   "outputs": [],
   "source": [
    "block.shape"
   ]
  },
  {
   "cell_type": "code",
   "execution_count": null,
   "id": "8cb8eb73-6c0a-43c5-af48-99595e28ff8b",
   "metadata": {},
   "outputs": [],
   "source": [
    "np.all(r_c.signal == r_g.signal)"
   ]
  },
  {
   "cell_type": "code",
   "execution_count": null,
   "id": "052a4910-bb17-4973-b2a9-dd0cdab5007b",
   "metadata": {},
   "outputs": [],
   "source": [
    "config_h = reduce.load_all_config(Path('/nsls2/users/tcaswell/HRD_output/20250114/'))"
   ]
  },
  {
   "cell_type": "code",
   "execution_count": null,
   "id": "db18639e-e214-4d14-82f6-1035f3723347",
   "metadata": {},
   "outputs": [],
   "source": [
    "import pandas as pd\n",
    "from dataclasses import asdict"
   ]
  },
  {
   "cell_type": "code",
   "execution_count": null,
   "id": "e9c7ce36-5a01-4a81-b9c3-0c0297185a30",
   "metadata": {},
   "outputs": [],
   "source": [
    "df = pd.DataFrame({k: {f'{outer}.{inner}': v for outer, cfg in asdict(v).items() for inner, v in cfg.items()} for k,v in config_h.items()}).T\n",
    "df['job'] = [_.name[:-4] for _ in df.index]"
   ]
  },
  {
   "cell_type": "code",
   "execution_count": null,
   "id": "1fbfdfd7-e444-46f7-b777-7f0e747f7667",
   "metadata": {},
   "outputs": [],
   "source": [
    "for n, g in df.groupby('job'):\n",
    "    print(n, g.index)\n",
    "    _, fig = reduce.reduce_and_plot(list(g.index))\n",
    "    fig.suptitle(n)\n",
    "    "
   ]
  },
  {
   "cell_type": "code",
   "execution_count": null,
   "id": "8db4818a-2e52-493c-8a40-6b14071b100a",
   "metadata": {},
   "outputs": [],
   "source": [
    "df"
   ]
  }
 ],
 "metadata": {
  "kernelspec": {
   "display_name": "Python (Pixi)",
   "language": "python",
   "name": "pixi-kernel-python3"
  },
  "language_info": {
   "codemirror_mode": {
    "name": "ipython",
    "version": 3
   },
   "file_extension": ".py",
   "mimetype": "text/x-python",
   "name": "python",
   "nbconvert_exporter": "python",
   "pygments_lexer": "ipython3",
   "version": "3.11.11"
  },
  "pixi-kernel": {
   "environment": "reduce"
  }
 },
 "nbformat": 4,
 "nbformat_minor": 5
}
